{
 "cells": [
  {
   "cell_type": "code",
   "execution_count": null,
   "metadata": {},
   "outputs": [],
   "source": [
    "# fucntion of creating frequency in string \n",
    "def character_frequency(string):\n",
    "    frequency_of_character = {} # Initializing an empty dictionary\n",
    "    for char in string:\n",
    "        if char in frequency_of_character:\n",
    "            frequency_of_character[char]+=1 # Increment the count of the character\n",
    "        else:\n",
    "            frequency_of_character[char]=1 # Initialize the count of the character\n",
    "    return frequency_of_character\n"
   ]
  },
  {
   "cell_type": "code",
   "execution_count": null,
   "metadata": {},
   "outputs": [],
   "source": [
    "input_string = input(\"Enter string:\") # Taking input from user\n",
    "result = character_frequency(input_string) #calling function\n",
    "print(result) # printing result "
   ]
  }
 ],
 "metadata": {
  "kernelspec": {
   "display_name": "Python 3",
   "language": "python",
   "name": "python3"
  },
  "language_info": {
   "name": "python",
   "version": "3.10.12"
  }
 },
 "nbformat": 4,
 "nbformat_minor": 2
}
